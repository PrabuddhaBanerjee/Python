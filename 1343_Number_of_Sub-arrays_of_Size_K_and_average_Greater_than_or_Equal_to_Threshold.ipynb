{
  "nbformat": 4,
  "nbformat_minor": 0,
  "metadata": {
    "colab": {
      "provenance": [],
      "authorship_tag": "ABX9TyPlMCZSYFxTQ6zrTZ4D0xz/",
      "include_colab_link": true
    },
    "kernelspec": {
      "name": "python3",
      "display_name": "Python 3"
    },
    "language_info": {
      "name": "python"
    }
  },
  "cells": [
    {
      "cell_type": "markdown",
      "metadata": {
        "id": "view-in-github",
        "colab_type": "text"
      },
      "source": [
        "<a href=\"https://colab.research.google.com/github/PrabuddhaBanerjee/Python/blob/master/1343_Number_of_Sub-arrays_of_Size_K_and_average_Greater_than_or_Equal_to_Threshold.ipynb\" target=\"_parent\"><img src=\"https://colab.research.google.com/assets/colab-badge.svg\" alt=\"Open In Colab\"/></a>"
      ]
    },
    {
      "cell_type": "code",
      "execution_count": 1,
      "metadata": {
        "id": "LqRMQXTwy9dY"
      },
      "outputs": [],
      "source": [
        "def numOfSubarrays(arr, k, threshold):\n",
        "        \"\"\"\n",
        "        :type arr: List[int]\n",
        "        :type k: int\n",
        "        :type threshold: int\n",
        "        :rtype: int\n",
        "        \"\"\"\n",
        "        result = 0\n",
        "        currSum = sum(arr[:k-1])\n",
        "\n",
        "        for l in range (len(arr)-k+1):\n",
        "            currSum += arr[l+k-1]\n",
        "            if currSum/k >= threshold:\n",
        "                result += 1\n",
        "            currSum -= arr[l]\n",
        "\n",
        "        return result"
      ]
    },
    {
      "cell_type": "code",
      "source": [
        "if __name__ == \"__main__\":\n",
        "  nums = [2,2,2,2,5,5,5,8]\n",
        "  k = 3\n",
        "  threshold = 4\n",
        "  print(numOfSubarrays(nums, k, threshold))"
      ],
      "metadata": {
        "id": "pS-R_niSzGsE"
      },
      "execution_count": null,
      "outputs": []
    }
  ]
}