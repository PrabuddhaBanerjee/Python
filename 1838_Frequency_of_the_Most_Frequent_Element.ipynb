{
  "nbformat": 4,
  "nbformat_minor": 0,
  "metadata": {
    "colab": {
      "provenance": [],
      "authorship_tag": "ABX9TyNAxLHxZPkoIGW2GYgBf4e/",
      "include_colab_link": true
    },
    "kernelspec": {
      "name": "python3",
      "display_name": "Python 3"
    },
    "language_info": {
      "name": "python"
    }
  },
  "cells": [
    {
      "cell_type": "markdown",
      "metadata": {
        "id": "view-in-github",
        "colab_type": "text"
      },
      "source": [
        "<a href=\"https://colab.research.google.com/github/PrabuddhaBanerjee/Python/blob/master/1838_Frequency_of_the_Most_Frequent_Element.ipynb\" target=\"_parent\"><img src=\"https://colab.research.google.com/assets/colab-badge.svg\" alt=\"Open In Colab\"/></a>"
      ]
    },
    {
      "cell_type": "code",
      "execution_count": 1,
      "metadata": {
        "id": "Z3iLU-42QQ-b"
      },
      "outputs": [],
      "source": [
        "def equalSubstring (s, t, maxCost):\n",
        "        \"\"\"\n",
        "        :type s: str\n",
        "        :type t: str\n",
        "        :type maxCost: int\n",
        "        :rtype: int\n",
        "        \"\"\"\n",
        "        if len(s) != len(t): return 0\n",
        "        cost = 0\n",
        "        l = 0\n",
        "        maxLen = 0\n",
        "\n",
        "        for r in range(len(s)):\n",
        "            cost += abs(ord(s[r])-ord(t[r]))\n",
        "            while cost > maxCost:\n",
        "                cost -= abs(ord(s[r])-ord(t[r]))\n",
        "                l+=1\n",
        "            maxLen = max(maxLen, r-l+1)\n",
        "\n",
        "        return maxLen"
      ]
    },
    {
      "cell_type": "code",
      "source": [
        "if __name__ == \"__main__\":\n",
        "  print(equalSubstring('abcd','bcde', 3))"
      ],
      "metadata": {
        "id": "gFYWgt1eQWyF"
      },
      "execution_count": null,
      "outputs": []
    }
  ]
}