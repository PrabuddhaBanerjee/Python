{
  "nbformat": 4,
  "nbformat_minor": 0,
  "metadata": {
    "colab": {
      "provenance": [],
      "authorship_tag": "ABX9TyP7O/z5G5HSmeS1Eh+6NZUB",
      "include_colab_link": true
    },
    "kernelspec": {
      "name": "python3",
      "display_name": "Python 3"
    },
    "language_info": {
      "name": "python"
    }
  },
  "cells": [
    {
      "cell_type": "markdown",
      "metadata": {
        "id": "view-in-github",
        "colab_type": "text"
      },
      "source": [
        "<a href=\"https://colab.research.google.com/github/PrabuddhaBanerjee/Python/blob/master/3179_Find_the_Nth_Value_After_K_Seconds.ipynb\" target=\"_parent\"><img src=\"https://colab.research.google.com/assets/colab-badge.svg\" alt=\"Open In Colab\"/></a>"
      ]
    },
    {
      "cell_type": "code",
      "execution_count": 1,
      "metadata": {
        "id": "5hYeXYrTsGc0"
      },
      "outputs": [],
      "source": [
        "def valueAfterKSeconds(n, k):\n",
        "        \"\"\"\n",
        "        :type n: int\n",
        "        :type k: int\n",
        "        :rtype: int\n",
        "        \"\"\"\n",
        "        q = [1]*n\n",
        "        while(k>0):\n",
        "            sum = 0\n",
        "            for i in range(n):\n",
        "                sum += q[i]\n",
        "                q[i] = sum\n",
        "            k-=1\n",
        "        return q[-1]%(10**9+7)"
      ]
    },
    {
      "cell_type": "code",
      "source": [
        "if __name__ == \"__main__\":\n",
        "  print(valueAfterKSeconds(4, 5))"
      ],
      "metadata": {
        "colab": {
          "base_uri": "https://localhost:8080/"
        },
        "id": "dW9l8Hp3sM4h",
        "outputId": "b0126df0-4256-46b6-b4d1-937bc238b446"
      },
      "execution_count": 2,
      "outputs": [
        {
          "output_type": "stream",
          "name": "stdout",
          "text": [
            "56\n"
          ]
        }
      ]
    }
  ]
}