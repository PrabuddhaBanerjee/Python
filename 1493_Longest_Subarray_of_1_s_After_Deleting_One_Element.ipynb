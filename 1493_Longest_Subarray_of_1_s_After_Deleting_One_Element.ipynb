{
  "nbformat": 4,
  "nbformat_minor": 0,
  "metadata": {
    "colab": {
      "provenance": [],
      "authorship_tag": "ABX9TyOHvg8NBO6q8SkJ9w0aLmMB",
      "include_colab_link": true
    },
    "kernelspec": {
      "name": "python3",
      "display_name": "Python 3"
    },
    "language_info": {
      "name": "python"
    }
  },
  "cells": [
    {
      "cell_type": "markdown",
      "metadata": {
        "id": "view-in-github",
        "colab_type": "text"
      },
      "source": [
        "<a href=\"https://colab.research.google.com/github/PrabuddhaBanerjee/Python/blob/master/1493_Longest_Subarray_of_1_s_After_Deleting_One_Element.ipynb\" target=\"_parent\"><img src=\"https://colab.research.google.com/assets/colab-badge.svg\" alt=\"Open In Colab\"/></a>"
      ]
    },
    {
      "cell_type": "code",
      "execution_count": 1,
      "metadata": {
        "id": "Uj-ge1gujMj8"
      },
      "outputs": [],
      "source": [
        "def longestSubarray(nums):\n",
        "        \"\"\"\n",
        "        :type nums: List[int]\n",
        "        :rtype: int\n",
        "        [1,1,0,1]\n",
        "         l    r\n",
        "        \"\"\"\n",
        "        resLen = 0\n",
        "        l = 0\n",
        "        lenNums = len(nums)\n",
        "        countZero = 0\n",
        "\n",
        "        for r in range(lenNums):\n",
        "            countZero += 1 if nums[r] == 0 else 0\n",
        "            while countZero > 1:\n",
        "                countZero -= 1 if nums[l] == 0 else 0\n",
        "                l += 1\n",
        "            resLen = max(resLen, r - l)\n",
        "\n",
        "        return resLen"
      ]
    },
    {
      "cell_type": "code",
      "source": [
        "def longestSubarray(self, nums):\n",
        "        \"\"\"\n",
        "        :type nums: List[int]\n",
        "        :rtype: int\n",
        "        \"\"\"\n",
        "        if sum(nums) == 0:\n",
        "            return 0\n",
        "        if sum(nums) == len(nums):\n",
        "            return sum(nums) - 1\n",
        "        l = 0\n",
        "        r = 0\n",
        "        ans = 0\n",
        "        for i in nums:\n",
        "            if not i:\n",
        "                ans = max(ans, l + r)\n",
        "                l = r\n",
        "                r = 0\n",
        "            else:\n",
        "                r += 1\n",
        "        ans = max(ans, l + r)\n",
        "        return ans"
      ],
      "metadata": {
        "id": "5dlFj50Xjgza"
      },
      "execution_count": null,
      "outputs": []
    },
    {
      "cell_type": "code",
      "source": [
        "if __name__ == \"__main__\":\n",
        "  nums = [0,1,1,1,0,1,1,0,1]\n",
        "  print(longestSubarray(nums))"
      ],
      "metadata": {
        "id": "ZE_EfrYojRM8"
      },
      "execution_count": null,
      "outputs": []
    }
  ]
}