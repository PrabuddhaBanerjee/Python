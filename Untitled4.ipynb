{
  "nbformat": 4,
  "nbformat_minor": 0,
  "metadata": {
    "colab": {
      "provenance": [],
      "authorship_tag": "ABX9TyNbHl40bvqtEOSLcJIxJ2dG",
      "include_colab_link": true
    },
    "kernelspec": {
      "name": "python3",
      "display_name": "Python 3"
    },
    "language_info": {
      "name": "python"
    }
  },
  "cells": [
    {
      "cell_type": "markdown",
      "metadata": {
        "id": "view-in-github",
        "colab_type": "text"
      },
      "source": [
        "<a href=\"https://colab.research.google.com/github/PrabuddhaBanerjee/Python/blob/master/Untitled4.ipynb\" target=\"_parent\"><img src=\"https://colab.research.google.com/assets/colab-badge.svg\" alt=\"Open In Colab\"/></a>"
      ]
    },
    {
      "cell_type": "code",
      "execution_count": null,
      "metadata": {
        "id": "AeHrY6e-7HIF"
      },
      "outputs": [],
      "source": [
        "def maxTotalReward(self, rewardValues):\n",
        "        \"\"\"\n",
        "        :type rewardValues: List[int]\n",
        "        :rtype: int\n",
        "        \"\"\"\n",
        "        rewardValues.sort()\n",
        "        total_reward = 0\n",
        "        for reward in rewardValues:\n",
        "            if reward > total_reward:\n",
        "                print(reward,\" \" ,total_reward)\n",
        "                total_reward += reward\n",
        "        print(total_reward)\n",
        "        return total_reward"
      ]
    }
  ]
}