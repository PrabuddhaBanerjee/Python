{
  "nbformat": 4,
  "nbformat_minor": 0,
  "metadata": {
    "colab": {
      "provenance": [],
      "authorship_tag": "ABX9TyPmbwQm6M52mCWDZUXr9fY8",
      "include_colab_link": true
    },
    "kernelspec": {
      "name": "python3",
      "display_name": "Python 3"
    },
    "language_info": {
      "name": "python"
    }
  },
  "cells": [
    {
      "cell_type": "markdown",
      "metadata": {
        "id": "view-in-github",
        "colab_type": "text"
      },
      "source": [
        "<a href=\"https://colab.research.google.com/github/PrabuddhaBanerjee/Python/blob/master/3178_Find_the_Child_Who_Has_the_Ball_After_K_Seconds.ipynb\" target=\"_parent\"><img src=\"https://colab.research.google.com/assets/colab-badge.svg\" alt=\"Open In Colab\"/></a>"
      ]
    },
    {
      "cell_type": "code",
      "execution_count": 5,
      "metadata": {
        "id": "JUq64llke8BF"
      },
      "outputs": [],
      "source": [
        "def numberOfChild(n, k):\n",
        "        \"\"\"\n",
        "        :type n: int\n",
        "        :type k: int\n",
        "        :rtype: int\n",
        "        \"\"\"\n",
        "        current = 0\n",
        "        q = [i for i in range(n)]\n",
        "        for _ in range(k):\n",
        "          current += 1\n",
        "          if current == n:\n",
        "            q.reverse()\n",
        "            current = 1\n",
        "\n",
        "        return q[current]"
      ]
    },
    {
      "cell_type": "code",
      "source": [
        "if __name__ == \"__main__\":\n",
        "  print('ans:',numberOfChild(3, 5))"
      ],
      "metadata": {
        "id": "T3362LNNgG-s"
      },
      "execution_count": null,
      "outputs": []
    }
  ]
}