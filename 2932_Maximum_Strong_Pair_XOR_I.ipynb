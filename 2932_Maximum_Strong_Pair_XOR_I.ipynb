{
  "nbformat": 4,
  "nbformat_minor": 0,
  "metadata": {
    "colab": {
      "provenance": [],
      "authorship_tag": "ABX9TyNLvx9/iOyObTNJnNPM80KB",
      "include_colab_link": true
    },
    "kernelspec": {
      "name": "python3",
      "display_name": "Python 3"
    },
    "language_info": {
      "name": "python"
    }
  },
  "cells": [
    {
      "cell_type": "markdown",
      "metadata": {
        "id": "view-in-github",
        "colab_type": "text"
      },
      "source": [
        "<a href=\"https://colab.research.google.com/github/PrabuddhaBanerjee/Python/blob/master/2932_Maximum_Strong_Pair_XOR_I.ipynb\" target=\"_parent\"><img src=\"https://colab.research.google.com/assets/colab-badge.svg\" alt=\"Open In Colab\"/></a>"
      ]
    },
    {
      "cell_type": "code",
      "execution_count": 1,
      "metadata": {
        "id": "4SK0L9inJjd1"
      },
      "outputs": [],
      "source": [
        "def maximumStrongPairXor(nums):\n",
        "        \"\"\"\n",
        "        :type nums: List[int]\n",
        "        :rtype: int\n",
        "        \"\"\"\n",
        "        l = 0\n",
        "        lenNums = len(nums)\n",
        "        nums.sort()\n",
        "        res = 0\n",
        "        for l in range(lenNums):\n",
        "            r = l\n",
        "            while (r<lenNums) and abs(nums[r]-nums[l]) <= min(nums[l], nums[r]):\n",
        "                print(nums[l], nums[r], l, r)\n",
        "                xor = nums[l]^nums[r]\n",
        "                res = max(res, xor)\n",
        "                r+=1\n",
        "\n",
        "\n",
        "        return res"
      ]
    },
    {
      "cell_type": "code",
      "source": [
        "def maximumStrongPairXor(nums):\n",
        "        \"\"\"\n",
        "        :type nums: List[int]\n",
        "        :rtype: int\n",
        "        \"\"\"\n",
        "        arr = []\n",
        "        for i in range(len(nums)):\n",
        "            for j in range(i, len(nums)):\n",
        "                if abs(nums[i] - nums[j]) <= min(nums[i],nums[j]):\n",
        "                    arr.append(nums[i]^nums[j])\n",
        "        return max(arr)"
      ],
      "metadata": {
        "id": "RfPtFFEiJzUe"
      },
      "execution_count": 2,
      "outputs": []
    },
    {
      "cell_type": "code",
      "source": [
        "if __name__ == \"__main__\":\n",
        "  nums = [1,2,3,4,5]\n",
        "  print(maximumStrongPairXor(nums))"
      ],
      "metadata": {
        "id": "luK-Zf9VJnC_"
      },
      "execution_count": null,
      "outputs": []
    }
  ]
}