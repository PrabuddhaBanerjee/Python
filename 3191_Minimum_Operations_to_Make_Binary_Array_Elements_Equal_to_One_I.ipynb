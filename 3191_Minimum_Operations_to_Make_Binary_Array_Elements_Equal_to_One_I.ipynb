{
  "nbformat": 4,
  "nbformat_minor": 0,
  "metadata": {
    "colab": {
      "provenance": [],
      "authorship_tag": "ABX9TyOzGbZxfPi01O1ef3RziwY1",
      "include_colab_link": true
    },
    "kernelspec": {
      "name": "python3",
      "display_name": "Python 3"
    },
    "language_info": {
      "name": "python"
    }
  },
  "cells": [
    {
      "cell_type": "markdown",
      "metadata": {
        "id": "view-in-github",
        "colab_type": "text"
      },
      "source": [
        "<a href=\"https://colab.research.google.com/github/PrabuddhaBanerjee/Python/blob/master/3191_Minimum_Operations_to_Make_Binary_Array_Elements_Equal_to_One_I.ipynb\" target=\"_parent\"><img src=\"https://colab.research.google.com/assets/colab-badge.svg\" alt=\"Open In Colab\"/></a>"
      ]
    },
    {
      "cell_type": "code",
      "execution_count": 5,
      "metadata": {
        "id": "Fjn1zoQien5t"
      },
      "outputs": [],
      "source": [
        "def minOperations(nums):\n",
        "        \"\"\"\n",
        "        :type nums: List[int]\n",
        "        :rtype: int\n",
        "        \"\"\"\n",
        "        count = 0\n",
        "        N = len(nums)\n",
        "        for i in range (N-2):\n",
        "            if nums[i] == 0:\n",
        "                nums[i] = 1 - nums[i]\n",
        "                nums[i+1] = 1 - nums[i+1]\n",
        "                nums[i+2] = 1 - nums[i+2]\n",
        "                count+=1\n",
        "\n",
        "        if all(i==1 for i in nums):\n",
        "            return count\n",
        "        return -1"
      ]
    },
    {
      "cell_type": "code",
      "source": [
        "if __name__ == \"__main__\":\n",
        "  nums = [0,1,1,1,0,0]\n",
        "  print(minOperations(nums))"
      ],
      "metadata": {
        "id": "ZYEmicafeqxk"
      },
      "execution_count": null,
      "outputs": []
    }
  ]
}