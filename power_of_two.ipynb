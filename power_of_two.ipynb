{
  "nbformat": 4,
  "nbformat_minor": 0,
  "metadata": {
    "colab": {
      "provenance": [],
      "authorship_tag": "ABX9TyNcrQEDTUU7CfYeQC8zCD8V",
      "include_colab_link": true
    },
    "kernelspec": {
      "name": "python3",
      "display_name": "Python 3"
    },
    "language_info": {
      "name": "python"
    }
  },
  "cells": [
    {
      "cell_type": "markdown",
      "metadata": {
        "id": "view-in-github",
        "colab_type": "text"
      },
      "source": [
        "<a href=\"https://colab.research.google.com/github/PrabuddhaBanerjee/Python/blob/master/power_of_two.ipynb\" target=\"_parent\"><img src=\"https://colab.research.google.com/assets/colab-badge.svg\" alt=\"Open In Colab\"/></a>"
      ]
    },
    {
      "cell_type": "markdown",
      "source": [
        "###231. Power of Two\n",
        "Given an integer n, return true if it is a power of two. Otherwise, return false.\n",
        "\n",
        "An integer n is a power of two, if there exists an integer x such that n == 2x.\n",
        "\n",
        "Example:\n",
        "\n",
        "**1.**\n",
        "```\n",
        "Input: n = 1\n",
        "Output: true\n",
        "Explanation: 2^0 = 1\n",
        "```\n",
        "**2.**\n",
        "```\n",
        "Input: n = 16\n",
        "Output: true\n",
        "Explanation: 2^4 = 16\n",
        "Example 3:\n",
        "```\n",
        "**3.**\n",
        "```\n",
        "Input: n = 3\n",
        "Output: false\n",
        "```"
      ],
      "metadata": {
        "id": "59vOXGP4es76"
      }
    },
    {
      "cell_type": "code",
      "source": [
        "class Solution(object):\n",
        "    def isPowerOfTwo(self, n):\n",
        "        if n <= 0:\n",
        "            return False\n",
        "        while n > 1:\n",
        "            if n % 2 != 0:\n",
        "                return False\n",
        "            n = n // 2\n",
        "        return True"
      ],
      "metadata": {
        "id": "l3LqYlYOeylE"
      },
      "execution_count": null,
      "outputs": []
    },
    {
      "cell_type": "code",
      "source": [
        "# Approach 2\n",
        "class Solution(object):\n",
        "    def isPowerOfTwo(self, n):\n",
        "        return n > 0 and (n & (n - 1)) == 0"
      ],
      "metadata": {
        "id": "-8-a-LRmgP5A"
      },
      "execution_count": null,
      "outputs": []
    }
  ]
}