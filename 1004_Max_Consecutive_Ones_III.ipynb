{
  "nbformat": 4,
  "nbformat_minor": 0,
  "metadata": {
    "colab": {
      "provenance": [],
      "authorship_tag": "ABX9TyM7YC3FD4PKRqcQKXBZp+Ls",
      "include_colab_link": true
    },
    "kernelspec": {
      "name": "python3",
      "display_name": "Python 3"
    },
    "language_info": {
      "name": "python"
    }
  },
  "cells": [
    {
      "cell_type": "markdown",
      "metadata": {
        "id": "view-in-github",
        "colab_type": "text"
      },
      "source": [
        "<a href=\"https://colab.research.google.com/github/PrabuddhaBanerjee/Python/blob/master/1004_Max_Consecutive_Ones_III.ipynb\" target=\"_parent\"><img src=\"https://colab.research.google.com/assets/colab-badge.svg\" alt=\"Open In Colab\"/></a>"
      ]
    },
    {
      "cell_type": "code",
      "execution_count": 4,
      "metadata": {
        "id": "n974tOhKhUuT"
      },
      "outputs": [],
      "source": [
        "def longestOnes(nums, k):\n",
        "        \"\"\"\n",
        "        :type nums: List[int]\n",
        "        :type k: int\n",
        "        :rtype: int\n",
        "        \"\"\"\n",
        "        result = 0\n",
        "        l = 0\n",
        "        for r in range (len(nums)):\n",
        "            if nums[r] == 0:\n",
        "                k-=1\n",
        "            while k<0:\n",
        "                if nums[l] == 0:\n",
        "                    k+=1\n",
        "                l+=1\n",
        "            result = max(result, r - l + 1)\n",
        "\n",
        "        return result"
      ]
    },
    {
      "cell_type": "code",
      "source": [
        "if __name__ == \"__main__\":\n",
        "  nums = [1,1,1,0,0,0,1,1,1,1,0]\n",
        "  k = 2\n",
        "  print(longestOnes(nums, k))"
      ],
      "metadata": {
        "id": "8zptRFgWhWBp"
      },
      "execution_count": null,
      "outputs": []
    }
  ]
}