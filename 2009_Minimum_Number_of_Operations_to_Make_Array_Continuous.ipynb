{
  "nbformat": 4,
  "nbformat_minor": 0,
  "metadata": {
    "colab": {
      "provenance": [],
      "authorship_tag": "ABX9TyN5n4JX28PwUMKypOOkOqWO",
      "include_colab_link": true
    },
    "kernelspec": {
      "name": "python3",
      "display_name": "Python 3"
    },
    "language_info": {
      "name": "python"
    }
  },
  "cells": [
    {
      "cell_type": "markdown",
      "metadata": {
        "id": "view-in-github",
        "colab_type": "text"
      },
      "source": [
        "<a href=\"https://colab.research.google.com/github/PrabuddhaBanerjee/Python/blob/master/2009_Minimum_Number_of_Operations_to_Make_Array_Continuous.ipynb\" target=\"_parent\"><img src=\"https://colab.research.google.com/assets/colab-badge.svg\" alt=\"Open In Colab\"/></a>"
      ]
    },
    {
      "cell_type": "code",
      "execution_count": 1,
      "metadata": {
        "id": "c3HsAxT4gAhO"
      },
      "outputs": [],
      "source": [
        "def minOperations(nums):\n",
        "        \"\"\"\n",
        "        :type nums: List[int]\n",
        "        :rtype: int\n",
        "        \"\"\"\n",
        "        length = len(nums)\n",
        "        nums = sorted(set(nums))\n",
        "        r = 0\n",
        "        result = length\n",
        "\n",
        "        for l in range(length):\n",
        "            while r<len(nums) and nums[r]<nums[l]+length:\n",
        "                r+=1\n",
        "            window = r - l\n",
        "            result = min(result, length - window)\n",
        "\n",
        "        return result"
      ]
    },
    {
      "cell_type": "code",
      "source": [
        "if __name__ == \"__main__\":\n",
        "  nums1 = [1,2,3,5,6]\n",
        "  nums2 = [1,10,100,1000]\n",
        "  nums3 = [5,6,8,8,9,9]\n",
        "  print(minOperations(nums3))"
      ],
      "metadata": {
        "id": "XKtnwxcQgD--"
      },
      "execution_count": null,
      "outputs": []
    }
  ]
}