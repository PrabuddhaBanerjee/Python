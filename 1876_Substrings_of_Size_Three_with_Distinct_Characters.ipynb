{
  "nbformat": 4,
  "nbformat_minor": 0,
  "metadata": {
    "colab": {
      "provenance": [],
      "authorship_tag": "ABX9TyOfsR0cjKAE402y/Yf5DwVx",
      "include_colab_link": true
    },
    "kernelspec": {
      "name": "python3",
      "display_name": "Python 3"
    },
    "language_info": {
      "name": "python"
    }
  },
  "cells": [
    {
      "cell_type": "markdown",
      "metadata": {
        "id": "view-in-github",
        "colab_type": "text"
      },
      "source": [
        "<a href=\"https://colab.research.google.com/github/PrabuddhaBanerjee/Python/blob/master/1876_Substrings_of_Size_Three_with_Distinct_Characters.ipynb\" target=\"_parent\"><img src=\"https://colab.research.google.com/assets/colab-badge.svg\" alt=\"Open In Colab\"/></a>"
      ]
    },
    {
      "cell_type": "code",
      "execution_count": null,
      "metadata": {
        "id": "fXtgaXEAI9cR"
      },
      "outputs": [],
      "source": [
        "def countGoodSubstrings(self, s):\n",
        "        \"\"\"\n",
        "        :type s: str\n",
        "        :rtype: int\n",
        "        \"\"\"\n",
        "        count = 0\n",
        "        lenNums = len(s)\n",
        "        for i in range(lenNums-2):\n",
        "            val = set()\n",
        "            val.add(s[i])\n",
        "            val.add(s[i+1])\n",
        "            val.add(s[i+2])\n",
        "            if len(val)==3:\n",
        "                count+=1\n",
        "\n",
        "        return count"
      ]
    },
    {
      "cell_type": "code",
      "source": [
        "if __name__ == \"__main__\":\n",
        "  print(countGoodSubstrings(\"xyzzaz\"))"
      ],
      "metadata": {
        "id": "WVwRTRJiI_Lt"
      },
      "execution_count": null,
      "outputs": []
    }
  ]
}