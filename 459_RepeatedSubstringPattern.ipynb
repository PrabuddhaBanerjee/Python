{
  "nbformat": 4,
  "nbformat_minor": 0,
  "metadata": {
    "colab": {
      "provenance": [],
      "authorship_tag": "ABX9TyPB0ssZUcXgEBwmG3K4SQ8c",
      "include_colab_link": true
    },
    "kernelspec": {
      "name": "python3",
      "display_name": "Python 3"
    },
    "language_info": {
      "name": "python"
    }
  },
  "cells": [
    {
      "cell_type": "markdown",
      "metadata": {
        "id": "view-in-github",
        "colab_type": "text"
      },
      "source": [
        "<a href=\"https://colab.research.google.com/github/PrabuddhaBanerjee/Python/blob/master/459_RepeatedSubstringPattern.ipynb\" target=\"_parent\"><img src=\"https://colab.research.google.com/assets/colab-badge.svg\" alt=\"Open In Colab\"/></a>"
      ]
    },
    {
      "cell_type": "code",
      "source": [
        "def repeatedSubstringPattern(s):\n",
        "        \"\"\"\n",
        "        :type s: str\n",
        "        :rtype: bool\n",
        "        \"\"\"\n",
        "        repeated_s = ''\n",
        "        for i in range(len(s)//2):\n",
        "          repeated_s += s[i]\n",
        "          if len(s)%len(repeated_s)== 0:\n",
        "            if repeated_s * (len(s)//len(repeated_s)) == s:\n",
        "              return True\n",
        "        return False"
      ],
      "metadata": {
        "id": "SkTRB6LNu12-"
      },
      "execution_count": 9,
      "outputs": []
    },
    {
      "cell_type": "code",
      "source": [
        "if __name__ == \"__main__\":\n",
        "  # s = 'aba'\n",
        "  s = 'abababab'\n",
        "  print(repeatedSubstringPattern(s))"
      ],
      "metadata": {
        "id": "JOOJcalkyZT9"
      },
      "execution_count": null,
      "outputs": []
    }
  ]
}