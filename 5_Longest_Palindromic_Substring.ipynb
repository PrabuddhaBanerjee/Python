{
  "nbformat": 4,
  "nbformat_minor": 0,
  "metadata": {
    "colab": {
      "provenance": [],
      "authorship_tag": "ABX9TyMQoWI3ryoM6VSo1rgLNgz/",
      "include_colab_link": true
    },
    "kernelspec": {
      "name": "python3",
      "display_name": "Python 3"
    },
    "language_info": {
      "name": "python"
    }
  },
  "cells": [
    {
      "cell_type": "markdown",
      "metadata": {
        "id": "view-in-github",
        "colab_type": "text"
      },
      "source": [
        "<a href=\"https://colab.research.google.com/github/PrabuddhaBanerjee/Python/blob/master/5_Longest_Palindromic_Substring.ipynb\" target=\"_parent\"><img src=\"https://colab.research.google.com/assets/colab-badge.svg\" alt=\"Open In Colab\"/></a>"
      ]
    },
    {
      "cell_type": "code",
      "execution_count": 1,
      "metadata": {
        "id": "goZz6fKVRKY2"
      },
      "outputs": [],
      "source": [
        "def longestPalindrome(s):                             #O(n^3)\n",
        "  \"\"\"\n",
        "  :type s: str\n",
        "  :rtype: str\n",
        "  \"\"\"\n",
        "  maxlen = 0\n",
        "  output = \"\"\n",
        "  for i in range(len(s)):                             #O(n)\n",
        "    for j in range(i+1,len(s)+1):                     #O(n)\n",
        "      cand = s[i:j]\n",
        "\n",
        "      if cand == cand[::-1] and len(cand)>maxlen:     #O(n)\n",
        "        output = cand\n",
        "        maxlen = len(cand)\n",
        "\n",
        "  return output"
      ]
    },
    {
      "cell_type": "code",
      "source": [
        "if __name__ == \"__main__\":\n",
        "  s = 'babad'\n",
        "  print(longestPalindrome(s))"
      ],
      "metadata": {
        "id": "liAHB5rPSBjJ"
      },
      "execution_count": null,
      "outputs": []
    }
  ]
}