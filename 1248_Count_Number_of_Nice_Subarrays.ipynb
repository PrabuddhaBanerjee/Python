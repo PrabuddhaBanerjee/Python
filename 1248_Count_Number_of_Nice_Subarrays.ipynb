{
  "nbformat": 4,
  "nbformat_minor": 0,
  "metadata": {
    "colab": {
      "provenance": [],
      "authorship_tag": "ABX9TyMdgyyDEeT0PZAO7fPm4QNm",
      "include_colab_link": true
    },
    "kernelspec": {
      "name": "python3",
      "display_name": "Python 3"
    },
    "language_info": {
      "name": "python"
    }
  },
  "cells": [
    {
      "cell_type": "markdown",
      "metadata": {
        "id": "view-in-github",
        "colab_type": "text"
      },
      "source": [
        "<a href=\"https://colab.research.google.com/github/PrabuddhaBanerjee/Python/blob/master/1248_Count_Number_of_Nice_Subarrays.ipynb\" target=\"_parent\"><img src=\"https://colab.research.google.com/assets/colab-badge.svg\" alt=\"Open In Colab\"/></a>"
      ]
    },
    {
      "cell_type": "code",
      "execution_count": 1,
      "metadata": {
        "id": "W40NcJejGBWA"
      },
      "outputs": [],
      "source": [
        "def numberOfSubarrays(nums, k):\n",
        "        \"\"\"\n",
        "        :type nums: List[int]\n",
        "        :type k: int\n",
        "        :rtype: int\n",
        "        \"\"\"\n",
        "        res = 0\n",
        "        l , m = 0, 0\n",
        "        odd = 0\n",
        "        for r in range(len(nums)):\n",
        "            #Case 1 check each number is odd/even\n",
        "            if nums[r] % 2:\n",
        "                odd +=1\n",
        "            #Case 2 count odd num if greater than k\n",
        "            while odd > k:\n",
        "                if nums[l]%2:\n",
        "                    odd-=1\n",
        "                l+=1\n",
        "                m = l\n",
        "            #Case 3 if the count of odd = k\n",
        "            if odd == k:\n",
        "                while not nums[m] % 2:\n",
        "                    m+=1\n",
        "                res += (m-l)+1\n",
        "\n",
        "        return res"
      ]
    },
    {
      "cell_type": "code",
      "source": [
        "def numberOfSubarrays2(nums, k):\n",
        "        \"\"\"\n",
        "        :type nums: List[int]\n",
        "        :type k: int\n",
        "        :rtype: int\n",
        "        \"\"\"\n",
        "        n = len(nums)\n",
        "        cnt = [0] * (n + 1)\n",
        "        cnt[0] = 1\n",
        "        ans = 0\n",
        "        t = 0\n",
        "        for v in nums:\n",
        "            t += v & 1\n",
        "            if t - k >= 0:\n",
        "                ans += cnt[t - k]\n",
        "            cnt[t] += 1\n",
        "        return ans"
      ],
      "metadata": {
        "id": "mtat5KgoHoLe"
      },
      "execution_count": 3,
      "outputs": []
    },
    {
      "cell_type": "code",
      "source": [
        "if __name__ == \"__main__\":\n",
        "  nums = [1,1,1,2,1,1]\n",
        "  k = 3\n",
        "  print(numberOfSubarrays(nums, k))"
      ],
      "metadata": {
        "id": "bCO8ZoByGKY5"
      },
      "execution_count": null,
      "outputs": []
    }
  ]
}